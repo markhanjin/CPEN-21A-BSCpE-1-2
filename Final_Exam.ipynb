{
  "nbformat": 4,
  "nbformat_minor": 0,
  "metadata": {
    "colab": {
      "name": "Final Exam.ipynb",
      "provenance": [],
      "authorship_tag": "ABX9TyOncNVvk09Xiax9BiMR0k8g",
      "include_colab_link": true
    },
    "kernelspec": {
      "name": "python3",
      "display_name": "Python 3"
    },
    "language_info": {
      "name": "python"
    }
  },
  "cells": [
    {
      "cell_type": "markdown",
      "metadata": {
        "id": "view-in-github",
        "colab_type": "text"
      },
      "source": [
        "<a href=\"https://colab.research.google.com/github/markhanjin/CPEN-21A-BSCpE-1-2/blob/main/Final_Exam.ipynb\" target=\"_parent\"><img src=\"https://colab.research.google.com/assets/colab-badge.svg\" alt=\"Open In Colab\"/></a>"
      ]
    },
    {
      "cell_type": "markdown",
      "source": [
        "##Problem Statement 1"
      ],
      "metadata": {
        "id": "x2Af2A0hogF3"
      }
    },
    {
      "cell_type": "code",
      "source": [
        "n = {-5, -4, -3, -2, -1, 0, 1, 2, 3, 4}\n",
        "sum = 0\n",
        "for x in n:\n",
        "  sum = sum + x\n",
        "print(\"The sum of 10 number less than 5 is\", sum)"
      ],
      "metadata": {
        "id": "iW6DFJKboji7",
        "colab": {
          "base_uri": "https://localhost:8080/"
        },
        "outputId": "e1da092b-b977-4cbb-a0c1-2c98e1325a3d"
      },
      "execution_count": 18,
      "outputs": [
        {
          "output_type": "stream",
          "name": "stdout",
          "text": [
            "The sum of 10 number less than 5 is -5\n"
          ]
        }
      ]
    },
    {
      "cell_type": "markdown",
      "source": [
        "##Poblem Statement 2"
      ],
      "metadata": {
        "id": "jamLSqw7xJ8N"
      }
    },
    {
      "cell_type": "code",
      "source": [
        "i=1\n",
        "while i<6:\n",
        "  print(i)\n",
        "  i+=1\n",
        "#else:\n",
        "  #print(\"i is no longer less than 6\")\n",
        "firstnumber = 1\n",
        "lastnumber = 5\n",
        "sum = (firstnumber + lastnumber)\n",
        "print(\"sum of first and last number is\", sum)\n"
      ],
      "metadata": {
        "colab": {
          "base_uri": "https://localhost:8080/"
        },
        "id": "Khh4X6rAxMkw",
        "outputId": "fb6bfd27-0320-41c0-a3ee-49b5c33964e2"
      },
      "execution_count": 9,
      "outputs": [
        {
          "output_type": "stream",
          "name": "stdout",
          "text": [
            "1\n",
            "2\n",
            "3\n",
            "4\n",
            "5\n",
            "sum of first and last number is 6\n"
          ]
        }
      ]
    },
    {
      "cell_type": "markdown",
      "source": [
        "##Problem Statement 3"
      ],
      "metadata": {
        "id": "Re1mJu4T3Mhy"
      }
    },
    {
      "cell_type": "code",
      "source": [
        "grade = int(input(\"Enter your grade:\"\" \"))\n",
        "\n",
        "if grade >= 90:\n",
        "  print(\"A\")\n",
        "elif grade >= 80:\n",
        "  print(\"B\")\n",
        "elif grade >= 70:\n",
        "  print(\"C\")\n",
        "elif grade >= 60:\n",
        "  print(\"D\")\n",
        "else:\n",
        "  print(\"F\")"
      ],
      "metadata": {
        "colab": {
          "base_uri": "https://localhost:8080/"
        },
        "id": "CKA5f5rO3PTx",
        "outputId": "46187504-be71-4d27-efbe-d002c1ee9b27"
      },
      "execution_count": 16,
      "outputs": [
        {
          "output_type": "stream",
          "name": "stdout",
          "text": [
            "Enter your grade: 59\n",
            "F\n"
          ]
        }
      ]
    }
  ]
}