{
  "nbformat": 4,
  "nbformat_minor": 0,
  "metadata": {
    "colab": {
      "name": "Midterm Exam.ipynb",
      "provenance": [],
      "authorship_tag": "ABX9TyPP6b7xRw2ycBTmYA40unfT",
      "include_colab_link": true
    },
    "kernelspec": {
      "name": "python3",
      "display_name": "Python 3"
    },
    "language_info": {
      "name": "python"
    }
  },
  "cells": [
    {
      "cell_type": "markdown",
      "metadata": {
        "id": "view-in-github",
        "colab_type": "text"
      },
      "source": [
        "<a href=\"https://colab.research.google.com/github/markhanjin/CPEN-21A-BSCpE-1-2/blob/main/Midterm_Exam.ipynb\" target=\"_parent\"><img src=\"https://colab.research.google.com/assets/colab-badge.svg\" alt=\"Open In Colab\"/></a>"
      ]
    },
    {
      "cell_type": "markdown",
      "metadata": {
        "id": "uMRy8kUICFpq"
      },
      "source": [
        "Problem Statement 1"
      ]
    },
    {
      "cell_type": "code",
      "metadata": {
        "colab": {
          "base_uri": "https://localhost:8080/"
        },
        "id": "QJt_vazgCcka",
        "outputId": "015fba8d-c57b-4c8c-8c03-86fa68267f33"
      },
      "source": [
        "Name = \"Mark Hanjin Valenzuela\"\n",
        "print(Name)"
      ],
      "execution_count": 10,
      "outputs": [
        {
          "output_type": "stream",
          "name": "stdout",
          "text": [
            "Mark Hanjin Valenzuela\n"
          ]
        }
      ]
    },
    {
      "cell_type": "code",
      "metadata": {
        "colab": {
          "base_uri": "https://localhost:8080/"
        },
        "id": "Ie8CBvFWEEg7",
        "outputId": "00a76b16-7930-4e4c-bf03-c3ae27a58130"
      },
      "source": [
        "StudentNumber=202102001\n",
        "print(StudentNumber)"
      ],
      "execution_count": 14,
      "outputs": [
        {
          "output_type": "stream",
          "name": "stdout",
          "text": [
            "202102001\n"
          ]
        }
      ]
    },
    {
      "cell_type": "code",
      "metadata": {
        "colab": {
          "base_uri": "https://localhost:8080/"
        },
        "id": "Fw296GTDEa7X",
        "outputId": "3e896f1d-b74b-4023-96f8-769c858370a0"
      },
      "source": [
        "Age = \"18 years old\"\n",
        "print(Age)"
      ],
      "execution_count": 15,
      "outputs": [
        {
          "output_type": "stream",
          "name": "stdout",
          "text": [
            "18 years old\n"
          ]
        }
      ]
    },
    {
      "cell_type": "code",
      "metadata": {
        "colab": {
          "base_uri": "https://localhost:8080/"
        },
        "id": "SBC0ZvcSEnsN",
        "outputId": "f0f187b9-13e8-4b82-a045-2bfa1d62f47d"
      },
      "source": [
        "Birthday = \"May 02, 2003\"\n",
        "print(Birthday)"
      ],
      "execution_count": 16,
      "outputs": [
        {
          "output_type": "stream",
          "name": "stdout",
          "text": [
            "May 02, 2003\n"
          ]
        }
      ]
    },
    {
      "cell_type": "code",
      "metadata": {
        "colab": {
          "base_uri": "https://localhost:8080/"
        },
        "id": "As-j_aQDE_TX",
        "outputId": "819096f0-231c-4725-cefc-6e637e2cc0d8"
      },
      "source": [
        "Address = \"77 Brgy. Latoria Naic, Cavite\"\n",
        "print(Address)"
      ],
      "execution_count": 17,
      "outputs": [
        {
          "output_type": "stream",
          "name": "stdout",
          "text": [
            "77 Brgy. Latoria Naic, Cavite\n"
          ]
        }
      ]
    },
    {
      "cell_type": "code",
      "metadata": {
        "colab": {
          "base_uri": "https://localhost:8080/"
        },
        "id": "vXrBLxGCFJ4K",
        "outputId": "d1866e51-8d94-478b-947d-b9d5461d06c4"
      },
      "source": [
        "Course = \"Bachelor of Science in Computer Engineering\"\n",
        "print(Course)"
      ],
      "execution_count": 18,
      "outputs": [
        {
          "output_type": "stream",
          "name": "stdout",
          "text": [
            "Bachelor of Science in Computer Engineering\n"
          ]
        }
      ]
    },
    {
      "cell_type": "code",
      "metadata": {
        "colab": {
          "base_uri": "https://localhost:8080/"
        },
        "id": "tQs6CRFoFV6v",
        "outputId": "e72cd950-f3e5-46cf-e6c5-7979d18ef809"
      },
      "source": [
        "Last_Sem_GWA = 91\n",
        "print(Last_Sem_GWA)"
      ],
      "execution_count": 19,
      "outputs": [
        {
          "output_type": "stream",
          "name": "stdout",
          "text": [
            "91\n"
          ]
        }
      ]
    },
    {
      "cell_type": "markdown",
      "metadata": {
        "id": "OrS54GxBFtv4"
      },
      "source": [
        "Problem Statement 2"
      ]
    },
    {
      "cell_type": "code",
      "metadata": {
        "colab": {
          "base_uri": "https://localhost:8080/"
        },
        "id": "c7jSPk1TFv_C",
        "outputId": "838ae769-61c8-4f95-837b-9eba1daead86"
      },
      "source": [
        "n=4\n",
        "answer = \"Y\"\n",
        "\n",
        "print(2<n and n>6)  #a\n",
        "print(2<n or n==6)  #b\n",
        "print(not(2<6) or n==6) #c\n",
        "print(not (n<6))  #d\n",
        "print(answer==\"Y\" or answer==\"y\") #e\n",
        "print(answer==\"Y\" and answer==\"y\")  #f  \n",
        "print(not(answer==\"y\")) #g\n",
        "print((2<n and n==5+1)) or (answer==\"No\") #h\n",
        "print((n==2 and n==7)) or (answer==\"Y\") #i\n",
        "print((n==2 and n==7)) or (answer==\"Y\") #j"
      ],
      "execution_count": 27,
      "outputs": [
        {
          "output_type": "stream",
          "name": "stdout",
          "text": [
            "False\n",
            "True\n",
            "False\n",
            "False\n",
            "True\n",
            "False\n",
            "True\n",
            "False\n",
            "False\n",
            "False\n"
          ]
        },
        {
          "output_type": "execute_result",
          "data": {
            "text/plain": [
              "True"
            ]
          },
          "metadata": {},
          "execution_count": 27
        }
      ]
    },
    {
      "cell_type": "markdown",
      "metadata": {
        "id": "OmUWA1IHF0Jf"
      },
      "source": [
        "Problem Statement 3"
      ]
    },
    {
      "cell_type": "code",
      "metadata": {
        "colab": {
          "base_uri": "https://localhost:8080/"
        },
        "id": "Q-2Mq-ICF2az",
        "outputId": "82c026ef-4185-488f-a6e2-b8a55d9deb9e"
      },
      "source": [
        "x=2\n",
        "y=-3\n",
        "w=7\n",
        "z=-10\n",
        "\n",
        "print(x/y) #a\n",
        "print(w/y/x)  #b\n",
        "print(z/y%x)  #c\n",
        "print(x%-y*x) #d\n",
        "print(x%y)  #e\n",
        "print(z%w-y/x*5+5)  #f\n",
        "print(9-x%(2+y))  #g\n",
        "print(z//w) #h\n",
        "print((2+y)**2) #i\n",
        "print(w/x*2)  #j"
      ],
      "execution_count": 28,
      "outputs": [
        {
          "output_type": "stream",
          "name": "stdout",
          "text": [
            "-0.6666666666666666\n",
            "-1.1666666666666667\n",
            "1.3333333333333335\n",
            "4\n",
            "-1\n",
            "16.5\n",
            "9\n",
            "-2\n",
            "1\n",
            "7.0\n"
          ]
        }
      ]
    }
  ]
}