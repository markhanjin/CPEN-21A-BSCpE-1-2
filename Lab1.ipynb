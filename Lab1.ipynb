{
  "nbformat": 4,
  "nbformat_minor": 0,
  "metadata": {
    "colab": {
      "name": "Lab1.ipynb",
      "provenance": [],
      "authorship_tag": "ABX9TyON2UAMYXIObCJFa0V8U4Uv",
      "include_colab_link": true
    },
    "kernelspec": {
      "name": "python3",
      "display_name": "Python 3"
    },
    "language_info": {
      "name": "python"
    }
  },
  "cells": [
    {
      "cell_type": "markdown",
      "metadata": {
        "id": "view-in-github",
        "colab_type": "text"
      },
      "source": [
        "<a href=\"https://colab.research.google.com/github/markhanjin/CPEN-21A-BSCpE-1-2/blob/main/Lab1.ipynb\" target=\"_parent\"><img src=\"https://colab.research.google.com/assets/colab-badge.svg\" alt=\"Open In Colab\"/></a>"
      ]
    },
    {
      "cell_type": "markdown",
      "metadata": {
        "id": "ktLFxBPz5ahQ"
      },
      "source": [
        "Laboratory 1"
      ]
    },
    {
      "cell_type": "code",
      "metadata": {
        "colab": {
          "base_uri": "https://localhost:8080/"
        },
        "id": "FWXAqThh07oA",
        "outputId": "b7e1ab63-9f2e-4c5e-e448-73caee807f6f"
      },
      "source": [
        "print (\"Welcome to Python Programming\")"
      ],
      "execution_count": 2,
      "outputs": [
        {
          "output_type": "stream",
          "name": "stdout",
          "text": [
            "Welcome to Python Programming\n"
          ]
        }
      ]
    },
    {
      "cell_type": "code",
      "metadata": {
        "colab": {
          "base_uri": "https://localhost:8080/"
        },
        "id": "inWk6TOP4G83",
        "outputId": "2a7074e2-72a1-4e15-b514-c5eb5da2ad9b"
      },
      "source": [
        "Name = \"Mark Hanjin Valenzuela\"\n",
        "Address = \"77 Brgy. Latoria St. Naic, Cavite\"\n",
        "Age = \"18 years old\"\n",
        "\n",
        "print (\"My name is\" \" \" + Name)\n",
        "print (\"I live in\" \" \" + Address)\n",
        "print (\"I am\" \" \" + Age)"
      ],
      "execution_count": 11,
      "outputs": [
        {
          "output_type": "stream",
          "name": "stdout",
          "text": [
            "My name is Mark Hanjin Valenzuela\n",
            "I live in 77 Brgy. Latoria St. Naic, Cavite\n",
            "I am 18 years old\n"
          ]
        }
      ]
    }
  ]
}